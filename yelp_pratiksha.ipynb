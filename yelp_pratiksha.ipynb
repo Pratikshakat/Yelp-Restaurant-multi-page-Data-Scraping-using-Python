{
 "cells": [
  {
   "cell_type": "code",
   "execution_count": 1,
   "id": "22bac212-2fdd-4b87-ad14-6150b4b39924",
   "metadata": {},
   "outputs": [
    {
     "name": "stdout",
     "output_type": "stream",
     "text": [
      "Defaulting to user installation because normal site-packages is not writeable\n",
      "Requirement already satisfied: requests in c:\\users\\omkar\\appdata\\roaming\\python\\python311\\site-packages (2.31.0)\n",
      "Requirement already satisfied: charset-normalizer<4,>=2 in c:\\users\\omkar\\appdata\\roaming\\python\\python311\\site-packages (from requests) (3.2.0)\n",
      "Requirement already satisfied: idna<4,>=2.5 in c:\\users\\omkar\\appdata\\roaming\\python\\python311\\site-packages (from requests) (3.4)\n",
      "Requirement already satisfied: urllib3<3,>=1.21.1 in c:\\users\\omkar\\appdata\\roaming\\python\\python311\\site-packages (from requests) (1.26.16)\n",
      "Requirement already satisfied: certifi>=2017.4.17 in c:\\users\\omkar\\appdata\\roaming\\python\\python311\\site-packages (from requests) (2023.7.22)\n",
      "Note: you may need to restart the kernel to use updated packages.\n"
     ]
    }
   ],
   "source": [
    "pip install requests"
   ]
  },
  {
   "cell_type": "code",
   "execution_count": 2,
   "id": "32b12180-0064-4ade-b1bb-503f4ec79d1c",
   "metadata": {},
   "outputs": [
    {
     "name": "stdout",
     "output_type": "stream",
     "text": [
      "Defaulting to user installation because normal site-packages is not writeable\n",
      "Requirement already satisfied: pandas in c:\\users\\omkar\\appdata\\roaming\\python\\python311\\site-packages (2.0.3)\n",
      "Requirement already satisfied: python-dateutil>=2.8.2 in c:\\users\\omkar\\appdata\\roaming\\python\\python311\\site-packages (from pandas) (2.8.2)\n",
      "Requirement already satisfied: pytz>=2020.1 in c:\\users\\omkar\\appdata\\roaming\\python\\python311\\site-packages (from pandas) (2023.3)\n",
      "Requirement already satisfied: tzdata>=2022.1 in c:\\users\\omkar\\appdata\\roaming\\python\\python311\\site-packages (from pandas) (2023.3)\n",
      "Requirement already satisfied: numpy>=1.21.0 in c:\\users\\omkar\\appdata\\roaming\\python\\python311\\site-packages (from pandas) (1.24.3)\n",
      "Requirement already satisfied: six>=1.5 in c:\\users\\omkar\\appdata\\roaming\\python\\python311\\site-packages (from python-dateutil>=2.8.2->pandas) (1.16.0)\n",
      "Note: you may need to restart the kernel to use updated packages.\n"
     ]
    }
   ],
   "source": [
    "pip install pandas"
   ]
  },
  {
   "cell_type": "code",
   "execution_count": 3,
   "id": "6c1ddd9f-169c-4af0-bb3c-e6273a14e15c",
   "metadata": {},
   "outputs": [
    {
     "name": "stdout",
     "output_type": "stream",
     "text": [
      "Defaulting to user installation because normal site-packages is not writeable\n",
      "Requirement already satisfied: beautifulsoup4 in c:\\users\\omkar\\appdata\\roaming\\python\\python311\\site-packages (4.12.2)\n",
      "Requirement already satisfied: soupsieve>1.2 in c:\\users\\omkar\\appdata\\roaming\\python\\python311\\site-packages (from beautifulsoup4) (2.4.1)\n",
      "Note: you may need to restart the kernel to use updated packages.\n"
     ]
    }
   ],
   "source": [
    "pip install beautifulsoup4"
   ]
  },
  {
   "cell_type": "code",
   "execution_count": 4,
   "id": "ba876dba-8d07-470a-b53a-f0e409ab2220",
   "metadata": {},
   "outputs": [],
   "source": [
    "import requests \n",
    "import pandas as pd\n",
    "from bs4 import BeautifulSoup as bs"
   ]
  },
  {
   "cell_type": "code",
   "execution_count": null,
   "id": "ac468759-a90b-435c-8d9c-6d398686caaf",
   "metadata": {},
   "outputs": [],
   "source": [
    "site=requests.get(f\"https://www.yelp.com/search?cflt=restaurants&find_loc=San+Francisco%2C+CA&start=0\")\n",
    "#print(site)\n",
    "#print(site.content)\n",
    "data=bs(site.content,\"html.parser\")\n",
    "data.prettify()\n",
    "hotel_name=[]\n",
    "for i in data.find_all('a',class_=\"css-19v1rkv\",target=\"_blank\",rel=\"noopener\"):\n",
    "    hotel_name.append(i.text)\n",
    "rating=[]\n",
    "for r in data.find_all('span',class_=\"css-gutk1c\")[2::]:\n",
    "    rating.append(r.text)   \n",
    "quisine=[]\n",
    "for q in data.find_all('div',class_='css-ady4rt'):\n",
    "    for i in q.find('span',class_=\"css-11bijt4\"):\n",
    "        quisine.append(i.text)\n",
    "#review=[]\n",
    "#for v in data.find_all('span',class_=\"css-chan6m\"):\n",
    "#    review.append(v.text)\n",
    "#location=[]\n",
    "#for l in data.find_all('span',class_=\"css-chan6m\")[1:20:2]:\n",
    "#    location.append(l.text)\n",
    "    \n",
    "#for loop for next 8 webpages   \n",
    "for page in range(10,81,10):\n",
    "    site=requests.get(f\"https://www.yelp.com/search?cflt=restaurants&find_loc=San+Francisco%2C+CA&start={page}\")\n",
    "    #print(site)\n",
    "    #print(site.content)\n",
    "    data=bs(site.content,\"html.parser\")\n",
    "    data.prettify()\n",
    "    for i in data.find_all('a',class_=\"css-19v1rkv\",target=\"_blank\",rel=\"noopener\"):\n",
    "        hotel_name.append(i.text)\n",
    "    for r in data.find_all('span',class_=\"css-gutk1c\")[2::]:\n",
    "        rating.append(r.text)  \n",
    "    for q in data.find_all('div',class_='css-ady4rt'):\n",
    "        for i in q.find('span',class_=\"css-11bijt4\"):\n",
    "            quisine.append(i.text)\n",
    "#    for v in data.find_all('span',class_=\"css-chan6m\"):\n",
    "#        review.append(v.text) \n",
    "#    for l in data.find_all('span',class_=\"css-chan6m\")[1:20:2]:\n",
    "#        location.append(l.text)    \n"
   ]
  },
  {
   "cell_type": "code",
   "execution_count": null,
   "id": "e8283bdc-1c92-4b4f-8759-8d34ab4b9861",
   "metadata": {},
   "outputs": [],
   "source": [
    "print(hotel_name)\n",
    "print(len(hotel_name))\n",
    "print(rating)\n",
    "print(len(rating))\n",
    "#print(review)\n",
    "#print(len(review))\n",
    "print(quisine)\n",
    "print(len(quisine))\n",
    "#print(location)\n",
    "#print(len(location))"
   ]
  },
  {
   "cell_type": "code",
   "execution_count": null,
   "id": "7a1c383c-c621-4bf5-9ac4-74f9d688b046",
   "metadata": {},
   "outputs": [],
   "source": [
    "yelp_restaurant=pd.DataFrame({\"Hotel Name\":hotel_name,\"Rating\":rating,\"Quisine\":quisine})\n",
    "yelp_restaurant"
   ]
  },
  {
   "cell_type": "code",
   "execution_count": null,
   "id": "b9bc8207-0d87-4ed0-9afa-c500a602b4b0",
   "metadata": {},
   "outputs": [],
   "source": [
    "yelp_restaurant.to_csv(\"YELP RESTAURANT.csv\",index=False)"
   ]
  },
  {
   "cell_type": "code",
   "execution_count": null,
   "id": "23502617-ffff-48c4-a0b4-f5821612c02e",
   "metadata": {},
   "outputs": [],
   "source": [
    "yelp_restaurant=pd.read_csv(\"YELP RESTAURANT.csv\")"
   ]
  },
  {
   "cell_type": "code",
   "execution_count": null,
   "id": "aa5989c1-8f59-4079-94e5-267333bd5f87",
   "metadata": {},
   "outputs": [],
   "source": [
    "yelp_restaurant"
   ]
  }
 ],
 "metadata": {
  "kernelspec": {
   "display_name": "Python 3 (ipykernel)",
   "language": "python",
   "name": "python3"
  },
  "language_info": {
   "codemirror_mode": {
    "name": "ipython",
    "version": 3
   },
   "file_extension": ".py",
   "mimetype": "text/x-python",
   "name": "python",
   "nbconvert_exporter": "python",
   "pygments_lexer": "ipython3",
   "version": "3.11.3"
  }
 },
 "nbformat": 4,
 "nbformat_minor": 5
}
